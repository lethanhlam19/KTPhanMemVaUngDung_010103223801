{
  "nbformat": 4,
  "nbformat_minor": 5,
  "metadata": {
    "kernelspec": {
      "display_name": "Python 3",
      "language": "python",
      "name": "python3"
    },
    "language_info": {
      "codemirror_mode": {
        "name": "ipython",
        "version": 3
      },
      "file_extension": ".py",
      "mimetype": "text/x-python",
      "name": "python",
      "nbconvert_exporter": "python",
      "pygments_lexer": "ipython3",
      "version": "3.8.8"
    },
    "colab": {
      "name": "1951040013_KT1.ipynb",
      "provenance": [],
      "collapsed_sections": [],
      "include_colab_link": true
    }
  },
  "cells": [
    {
      "cell_type": "markdown",
      "metadata": {
        "id": "view-in-github",
        "colab_type": "text"
      },
      "source": [
        "<a href=\"https://colab.research.google.com/github/lethanhlam19/KTPhanMemVaUngDung_010103223801/blob/main/1951040013_KT1.ipynb\" target=\"_parent\"><img src=\"https://colab.research.google.com/assets/colab-badge.svg\" alt=\"Open In Colab\"/></a>"
      ]
    },
    {
      "cell_type": "code",
      "metadata": {
        "id": "e2d2626b"
      },
      "source": [
        "# Bai 1\n",
        "def chan_le(a):\n",
        "  if a % 2 == 0:\n",
        "    print(\"Day la so chan!\")\n",
        "  else:\n",
        "    print(\"Day la so le!\")\n",
        "if __name__== \"__main__\":\n",
        "    a = int(input(\"Nhap so dung de kiem tra:\"))\n",
        "    chan_le(a)\n"
      ],
      "id": "e2d2626b",
      "execution_count": null,
      "outputs": []
    },
    {
      "cell_type": "code",
      "metadata": {
        "id": "J0Av-3VCD4IV"
      },
      "source": [
        "# Bai 2\n",
        "def prime(a):\n",
        "  for i in range(2,a):\n",
        "     if a % i == 0:\n",
        "       return False\n",
        "       return True\n",
        "while True:\n",
        "   a = int(input(\"Hãy nhập vào 1 số nguyên tố duy nhất: \")) \n",
        "   if prime(a) == False:\n",
        "      print(\"Xin hãy nhập lại!\")\n",
        "   else:\n",
        "     break\n"
      ],
      "id": "J0Av-3VCD4IV",
      "execution_count": null,
      "outputs": []
    },
    {
      "cell_type": "code",
      "metadata": {
        "id": "i40V2EpSCY4g"
      },
      "source": [
        "# Bai 3\n",
        "array=[1,2,3,4,5,6]\n",
        "def inverse_array(k):\n",
        "  print(list(reversed(array)))\n",
        "inverse_array(array)"
      ],
      "id": "i40V2EpSCY4g",
      "execution_count": null,
      "outputs": []
    },
    {
      "cell_type": "code",
      "metadata": {
        "id": "qGM5tuafKJdo"
      },
      "source": [
        "# Bai 4\n",
        "import math\n",
        "def fibonacci(n):\n",
        "    if (n < 0):\n",
        "        return -1;\n",
        "    elif (n == 0 or n == 1):\n",
        "        return n;\n",
        "    else:\n",
        "        return fibonacci(n - 1) + fibonacci(n - 2);\n",
        " \n",
        "n = int(input(\"Nhap vao so nguyen duong n = \"));\n",
        "print(\"Tat ca cac so fibonacci nho hon\",n);\n",
        "i = 1;\n",
        "fin = fibonacci(i);\n",
        "while (fin < n):\n",
        "    fin = fibonacci(i);\n",
        "    if (fin < n):\n",
        "        print(fin)\n",
        "    i = i + 1;"
      ],
      "id": "qGM5tuafKJdo",
      "execution_count": null,
      "outputs": []
    },
    {
      "cell_type": "code",
      "metadata": {
        "id": "dfUFxAN6Xqrx"
      },
      "source": [
        "# Bai 5\n",
        "import cmath\n",
        "def complex_generator():\n",
        "  #Khởi tạo mảng số phức rỗng\n",
        "  complex_array = []\n",
        "  n = input(\"So so phuc: \")\n",
        "  for i in range(int(n)):\n",
        "      a = int(input(\"Phan thuc: \"))\n",
        "      b = int(input(\"Phan ao: \"))\n",
        "      complex_array.append(complex(a,b))\n",
        "  return complex_array\n",
        "\n",
        "\n"
      ],
      "id": "dfUFxAN6Xqrx",
      "execution_count": null,
      "outputs": []
    }
  ]
}